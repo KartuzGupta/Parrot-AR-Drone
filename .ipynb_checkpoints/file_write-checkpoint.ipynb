{
 "cells": [
  {
   "cell_type": "code",
   "execution_count": null,
   "id": "1f652a3e",
   "metadata": {},
   "outputs": [],
   "source": [
    "import keyboard\n",
    "\n",
    "def own_control():\n",
    "    while True:\n",
    "        f = open(\"instructions.txt\", \"w\")\n",
    "        s = input(\"Enter Command :\")\n",
    "        if s == 'kill':\n",
    "            break\n",
    "        f.write(s)\n",
    "\n",
    "own_control()"
   ]
  }
 ],
 "metadata": {
  "kernelspec": {
   "display_name": "Python 3 (ipykernel)",
   "language": "python",
   "name": "python3"
  },
  "language_info": {
   "codemirror_mode": {
    "name": "ipython",
    "version": 3
   },
   "file_extension": ".py",
   "mimetype": "text/x-python",
   "name": "python",
   "nbconvert_exporter": "python",
   "pygments_lexer": "ipython3",
   "version": "3.9.12"
  }
 },
 "nbformat": 4,
 "nbformat_minor": 5
}
